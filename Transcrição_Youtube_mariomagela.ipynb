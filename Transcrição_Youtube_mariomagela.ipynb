{
  "cells": [
    {
      "cell_type": "markdown",
      "metadata": {
        "id": "view-in-github",
        "colab_type": "text"
      },
      "source": [
        "<a href=\"https://colab.research.google.com/github/MarioMagela/notebooks/blob/main/Transcri%C3%A7%C3%A3o_Youtube_mariomagela.ipynb\" target=\"_parent\"><img src=\"https://colab.research.google.com/assets/colab-badge.svg\" alt=\"Open In Colab\"/></a>"
      ]
    },
    {
      "cell_type": "code",
      "execution_count": null,
      "id": "66918d4f-a5ef-4fe9-9996-68e572804db9",
      "metadata": {
        "colab": {
          "base_uri": "https://localhost:8080/"
        },
        "id": "66918d4f-a5ef-4fe9-9996-68e572804db9",
        "outputId": "3bbffa9c-5ea4-43bd-c41e-15c6dd0978e7"
      },
      "outputs": [
        {
          "output_type": "stream",
          "name": "stdout",
          "text": [
            "Collecting youtube-transcript-api\n",
            "  Downloading youtube_transcript_api-1.0.3-py3-none-any.whl.metadata (23 kB)\n",
            "Requirement already satisfied: defusedxml<0.8.0,>=0.7.1 in /usr/local/lib/python3.11/dist-packages (from youtube-transcript-api) (0.7.1)\n",
            "Requirement already satisfied: requests in /usr/local/lib/python3.11/dist-packages (from youtube-transcript-api) (2.32.3)\n",
            "Requirement already satisfied: charset-normalizer<4,>=2 in /usr/local/lib/python3.11/dist-packages (from requests->youtube-transcript-api) (3.4.1)\n",
            "Requirement already satisfied: idna<4,>=2.5 in /usr/local/lib/python3.11/dist-packages (from requests->youtube-transcript-api) (3.10)\n",
            "Requirement already satisfied: urllib3<3,>=1.21.1 in /usr/local/lib/python3.11/dist-packages (from requests->youtube-transcript-api) (2.4.0)\n",
            "Requirement already satisfied: certifi>=2017.4.17 in /usr/local/lib/python3.11/dist-packages (from requests->youtube-transcript-api) (2025.4.26)\n",
            "Downloading youtube_transcript_api-1.0.3-py3-none-any.whl (2.2 MB)\n",
            "\u001b[2K   \u001b[90m━━━━━━━━━━━━━━━━━━━━━━━━━━━━━━━━━━━━━━━━\u001b[0m \u001b[32m2.2/2.2 MB\u001b[0m \u001b[31m14.0 MB/s\u001b[0m eta \u001b[36m0:00:00\u001b[0m\n",
            "\u001b[?25hInstalling collected packages: youtube-transcript-api\n",
            "Successfully installed youtube-transcript-api-1.0.3\n"
          ]
        }
      ],
      "source": [
        "# Importar a biblioteca necessária\n",
        "!pip install youtube-transcript-api\n",
        "from youtube_transcript_api import YouTubeTranscriptApi"
      ]
    },
    {
      "cell_type": "code",
      "execution_count": null,
      "id": "1b56ee23-747d-4290-85d0-e89a77eaef29",
      "metadata": {
        "id": "1b56ee23-747d-4290-85d0-e89a77eaef29"
      },
      "outputs": [],
      "source": [
        "# Função para extrair o ID do vídeo a partir da URL\n",
        "def get_video_id(url):\n",
        "    \"\"\"\n",
        "    Extrai o ID do vídeo a partir de uma URL do YouTube.\n",
        "    :param url: URL completa do vídeo.\n",
        "    :return: ID do vídeo.\n",
        "    \"\"\"\n",
        "    if \"v=\" in url:\n",
        "        return url.split(\"v=\")[-1].split(\"&\")[0]\n",
        "    elif \"youtu.be/\" in url:\n",
        "        return url.split(\"youtu.be/\")[-1]\n",
        "    elif \"youtube.com/live/\" in url:\n",
        "        return url.split(\"youtube.com/live/\")[-1]\n",
        "    else:\n",
        "        return url\n"
      ]
    },
    {
      "cell_type": "code",
      "source": [
        "# Função para extrair a transcrição\n",
        "def extract_transcription(video_url, language=\"pt\"):\n",
        "    \"\"\"\n",
        "    Extrai a transcrição de um vídeo do YouTube.\n",
        "    :param video_url: URL do vídeo do YouTube.\n",
        "    :param language: Idioma desejado para a transcrição (padrão: português).\n",
        "    :return: Transcrição completa como texto.\n",
        "    \"\"\"\n",
        "    try:\n",
        "        # Extrair o ID do vídeo\n",
        "        video_id = get_video_id(video_url)\n",
        "\n",
        "        # Obter a transcrição do vídeo\n",
        "        transcript = YouTubeTranscriptApi.get_transcript(video_id, languages=[language])\n",
        "\n",
        "        # Combinar o texto em uma única string\n",
        "        full_transcription = \" \".join([entry['text'] for entry in transcript])\n",
        "        return full_transcription\n",
        "\n",
        "    except Exception as e:\n",
        "        return f\"Erro ao obter a transcrição: {e}\"\n",
        "\n"
      ],
      "metadata": {
        "id": "kS1ipfRT5eSS"
      },
      "id": "kS1ipfRT5eSS",
      "execution_count": null,
      "outputs": []
    },
    {
      "cell_type": "code",
      "source": [
        "# Inserir o link do vídeo\n",
        "video_url = input(\"Digite o link do vídeo do YouTube: \")\n",
        "\n"
      ],
      "metadata": {
        "colab": {
          "base_uri": "https://localhost:8080/"
        },
        "id": "uTi13R2-5mPh",
        "outputId": "89753fa0-d0b1-4be5-f214-55d411b55712"
      },
      "id": "uTi13R2-5mPh",
      "execution_count": null,
      "outputs": [
        {
          "name": "stdout",
          "output_type": "stream",
          "text": [
            "Digite o link do vídeo do YouTube: https://www.youtube.com/live/douNpN8CdMs\n"
          ]
        }
      ]
    },
    {
      "cell_type": "code",
      "source": [
        "# Idioma desejado\n",
        "language = \"pt\"\n",
        "\n"
      ],
      "metadata": {
        "id": "Ybl1kDZd5n8G"
      },
      "id": "Ybl1kDZd5n8G",
      "execution_count": null,
      "outputs": []
    },
    {
      "cell_type": "code",
      "source": [
        "# Obter a transcrição\n",
        "transcription = extract_transcription(video_url, language)\n",
        "\n"
      ],
      "metadata": {
        "id": "p-ixPNJC5vO6"
      },
      "id": "p-ixPNJC5vO6",
      "execution_count": null,
      "outputs": []
    },
    {
      "cell_type": "code",
      "source": [
        "# Exibir a transcrição\n",
        "print(\"\\n### Transcrição Completa ###\")\n",
        "print(transcription)\n",
        "\n"
      ],
      "metadata": {
        "colab": {
          "base_uri": "https://localhost:8080/"
        },
        "id": "_3QliR_S5xvS",
        "outputId": "4c68d3c5-ddc0-4219-f323-296fc04659bd"
      },
      "id": "_3QliR_S5xvS",
      "execution_count": null,
      "outputs": [
        {
          "output_type": "stream",
          "name": "stdout",
          "text": [
            "\n",
            "### Transcrição Completa ###\n",
            "Seja bem-vindo à escrita do livro ao vivo, o produto digital perfeito. Será que tá dando eco? Deixa eu tentar melhorar aqui a a acústica. Quando eu comecei a falar aqui, eu falei, pera aí que eu tô ouvindo a minha voz. Então, se eu tô ouvindo a minha voz, eu vou botar alguma coisa aqui, um abafador acústico ultrasson, que aí vai melhorar a percepção do áudio aqui para vocês. Espero que esteja bem. Me dá um oi aí quem tá me vendo vendo e ouvindo bem. Às vezes a gente entra numa transmissão e a gente não consegue saber se tá, né? O povo tá vendo nós tá. Então eu gosto sempre de perguntar se o povo tá vendo e ouvindo bem pra gente poder fazer uma uma escrita de livro ao vivo. Hoje eu me comprometi todos os dias da minha vida escrever um livro. Ou eu tô escrevendo um livro meu ou eu tô escrevendo o livro de alguém que tá funcionando essa parada aí. Eu tô ouvindo aqui no Instagram, tô ouvindo no YouTube. Ó lá, a Neil falou: \"Você ouvindo bem\". E tem uma pergunta que as pessoas me fazem assim constantemente, que é como é que eu escolho o produto certo para mim, o produto digital certo, como é que eu entro no digital? Ou até mesmo pessoas que já estão no digital faz tempo. E as pessoas têm uma dúvida, né? Como é como encontrar o produto certo para mim? Porque às vezes você tá no digital tentando vender o que o povo não quer comprar ou vendendo aquilo que você não quer entregar. Aí é normal, né? Porque muita gente me fala isso. Não, o que eu gosto de falar não vende e o que eu vendo às vezes não gosto de entregar. Que é quando as pessoas dizem para você assim, ó, você deveria criar tal produto digital, você deveria eh falar sobre tal tema, tal coisa. E eu vou te dizer que eu já sofri muito com isso. Então, nesse livro que eu tô escrevendo ao vivo agora com vocês aqui, eu quero trazer clareza para alguns pontos importantes. Se você quer ter liberdade, Felipe, o que que é liberdade? A liberdade ela vem quando você tem certas áreas da vida onde você consegue ter tempo, por exemplo, ter dinheiro, né? E e quando você para de trabalhar, o dinheiro não para de fluir. Eu não tô falando que você vai ficar rico do dia paraa noite, nem tô dizendo que vai ser fácil, mas quando você entende alguns aspectos desse jogo, né, da liberdade, muitas vezes a gente a gente paga um preço assim, por exemplo, você quer passar uma prova, sei lá, você estuda demais, você vira a noite porque você tem uma meta, um objetivo, você tem um ponto a seguir. E aí quando você tá buscando esse ponto, essa meta, você fala: \"Vou pagar o preço, vou fazer a coisa acontecer\". Porém tem um detalhe muito importante que se isso é eterno, você tá ferrado. Ferrada por quê? Você tá numa prisão. A sua vida não pode ser o tempo inteiro um ali, ninguém aguenta passar um período, beleza, mas isso tem que acabar. Então, muitas vezes existe uma dependência das pessoas de uma fonte de renda que depende do seu tempo. E aí quando eu comecei no marketing digital, eu ia muito pela minha intuição. Então eu pensava assim: \"Poxa, eu gostaria de comprar uma solução rápida que me trouxesse uma vitória rápida\". Aí eu pensei num desafios aí de de 21 dias. Eu fazia 21 dias para ter imunidade emocional, vencer ansiedade, dominar os medos, ou 21 dias para ter a disciplina. Tá aqui, ó, tatuagem da disciplina. Inabalável, nunca pensei na vida que tem uma tatuagem. E aí uma vez eu vi escrito assim num poste, sabe quando o povo cola assim as coisas no poste, né? Provérbios 19:15. O preguiçoso passa fome. Aí eu falei: \"Agora deu bom, porque na minha vida tudo que deu certo para mim foi quando eu tive disciplina. Quando eu não tive disciplina me ferrei. Então eu comecei a criar os meus produtos muito pela intuição, pelo meu coração, por aquilo que eu tinha alegria de servir as pessoas, por aquilo que muitas vezes até eu mesmo precisava. Ah, que que doideira, né? Eu precisava desenvolver alguma habilidade na minha vida. Eu precisava eh sei lá, ter mais disciplina, digamos, né? Eu precisava dominar mais a partir de técnicas de aprendizagem, que foi os meus primeiros livros escritos foram sobre técnica de aprendizagem acelerada. E eu comecei a ensinar o que eu precisava aprender. Ó que deleira. Então, quando quando você na vida só ganha dinheiro vendendo seu tempo, você acaba criando uma limitação muito grande e uma sobrecarga. Eu eu ajudo muita gente que faz muito dinheiro a continuar fazendo muito dinheiro, às vezes nem aumenta nada, sabe? Mas a pessoa trabalha menos. E não tô falando que a pessoa trabalha meia hora, não, mas ela trabalha um tanto que é o necessário, não a sobrecarga, porque a sobrecarga uma hora tem seu preço. Então assim, como é as pessoas perguntam, né, como é que eu crio o produto perfeito? Porque nessa corrida do produto perfeito para você vender na internet, né, para você fazer dinheiro na internet, é muito fácil você ver alguém comprar um posicionamento fake ou vender uma coisa se pensando assim, que que as pessoas querem comprar? Isso é um grande erro, porque você pode vender coisas que você não tem alegria de entregar ou competência para isso. Se você tiver competência, beleza, né? Mesmo sem alegria, sem entrega. Se eu, por exemplo, fosse ensinar leitura dinâmica, memorização, mapas mentais hoje em dia, eu ensinaria. Não tenho alegria de entregar isso, mas eu já dominei muito isso na minha vida. Então, muitas vezes as pessoas fazem a parada só e somente sofrem pelo dinheiro. Isso é algo que tira o tesão da história, porque você não tem felicidade em falar daquilo. Quando eu me comprometi em escrever um livro todo dia, eu falei: \"Ei, eu vou fazer isso porque eu tenho tesão de fazer isso. Tenho alegria de fazer isso\". Escrever um livro salvou minha vida. Eu tinha uma carta de despedida da vida. Quando eu conheci alguém que eu con eu chamei, convidei essa pessoa para escrever um livro comigo e eh convidando essa pessoa para escrever um livro comigo, eu rasguei a minha carta de despedida e eu escrevi um livro em seis dias sem inteligência artificial. Então um livro mudou minha vida, me me ajudou a deixar de ser burro. E hoje eu escrevo livros, eu ajudo pessoas a se tornarem autoras, escrever um livro assim, não do dia paraa noite, mas do dia pro dia. Em uma em uma jornada de 4 horas, você consegue criar um livro que você se orrulha dele. E eu já te deixo um alerta aqui, tá? E aí eu quero eu quero eu quero que você me denda o seguinte: é muito importante encontrar o produto perfeito para você e essa resposta vai est no seu coração muito mais do que na boca das outras pessoas. Mas entenda uma coisa aí, já talvez seja o capítulo dois do meu livro aqui, tá? Porque o capítulo um é tá todo mundo perdido na internet tentando vender o que o povo quer comprar e muitas vezes você não quer entregar ou tentando vender aquilo que você quer entregar, mas de um jeito que os outros não querem comprar. Isso é ruim. Tem que ter esse casamento, né? É vender o que as pessoas querem, entregar o que elas precisam, mas você tem que ter alegria nesse processo. Senão você vai parar, vai parar de vender, vai parar de fazer. Nós duas. Então, no capítulo dois, nesse livro que eu tô escrevendo aqui ao vivo, eu tô imaginando assim um livro, sabe? No capítulo dois, eu quero falar sobre por que isso acontece, por que que as pessoas elas se perdem no caminho do digital. Eu ajudo várias pessoas a entrarem no digital, médicos, empresários, empreendedores, pessoas que querem sair da sobrecarga, deixar um legado através de um livro, sei lá, através de um produto, através de uma auditoria e saindo dessa sobrecarga, conseguir fazer com que o dinheiro continue a vir. Porque por mais que você ganhe dinheiro, sempre tem aquela coisinha na cabeça, você pensar assim: \"Poxa, será que eu vou continuar ganhando dinheiro?\" Eu já conheci muita gente que fez muito dinheiro e perdeu muito dinheiro na vida. Muita gente, muito, muito, muito, muita gente. Pessoas que ficaram milionárias e depois ficaram pobre, pobre mesmo, pobre de depender da doação dos outros para poder comer. E aí, ao longo da jornada, você começa a fazer as coisas com o seu coração no digital, sei lá, e daqui a pouco alguém fala para você: \"Você não deveria vender isso. Você não deveria usar essa roupa. Você não deveria falar assim, você deveria eh se posicionar de outra forma. Você deveria isso, você deveria aquilo. E não tem nada de errado em você ouvir as pessoas. O que está errado é você parar de se ouvir. Ó, frase poserosa, né? Não tem nada de errado você ouvir os outros. Pode ouvir, escute. Especialmente quem tem preparo, mérito, quem se importa com você. Vale a pena você pagar um mentor e o mentor que realmente se importa com você. Porque no digital tem um monte de gente por aí que tem resultado, mas não tem coração para se importar com as pessoas que te dão o dinheiro. Então cuidado, se informa antes de você entrar numa dessas mentorias que te ensinam do dia para a ficar rico. Cuidado, cuidado. Como criar uma mentoria, como isso, como aquilo, cuidado com isso. Por quê, Felipe? Porque quando você entrar, você vai começar a receber orientações e cada mentor tem uma necessidade oculta que talvez nem ele saiba. Sabe qual é? Todo mentor tem necessidade de negar o que o outro mentor fala. Isso é meio como linha linha de psicologia, sabe? Na linha da da psicologia parece que uma tem que brigar com a outra, sabe? É como no direito, você para sustentar a sua ideia, você tem que dizer quanto tá errado. Então o cara que fala sobre lançamento, ele é contra o perpétuo. O cara que fala sobre o high ticket é contra o low ticket. E um fica dizendo que o outro tá errado. E você precisa encontrar a metodologia que serve para você. É como você pegar um sapato assim, sabe? E você colocar falar assim: \"Qual o sapato que cabe no meu pé?\" E eu já testei de tudo que você puder imaginar, lançamento, high ticket e por aí vai, tal do perpétuo e por aí vai. E quando eu percebi que toda vez que eu chegava numa mentoria, sabe o que as pessoas falavam para mim? Pessoas diziam assim: \"O que você vende não vende\". Essa é uma frase que eu que que eu quero estampar nesse livro que eu tô escrevendo agora com vocês aqui. O que você vende, não vende? É mesmo, né? Tem que tem que vender o qu? Fala aí. Ah, F, você tem que vender outra coisa. E as pessoas iam dizendo e eu ia mudando de posicionamento, de público, de tema disso, daquilo. É como se você o tempo inteiro mudasse a sua forma de se vestir, sabe? O tempo inteiro você muda completamente como você se veste, tá ligado, né? Tá. O tempo todo você fica mudando, mudando, mudando, mudando. Você perde a sua identidade, daqui a pouco você fala: \"Eu tô perdido, não sei o que que eu faço\". E outras pessoas não conseguem nem começar no digital porque elas precisam ter o perfeccionismo de tudo muito bem construído. Ah, não, porque eu quero entregar um negócio próprio mesmo. É, então eu quero te mostrar no capítulo três desse livro que começa agora, eu tô escrevendo livro ao vivo com vocês. Eu me comprometia todo dia vir aqui nas redes sociais e escrever um livro. Só que essa aula não vai ficar gravada não paraas redes sociais. Essa aula vai migrar para uma área de membro chamada eu não vou parar e eu não vou parar.com. Na verdade, nome do site é isso, tá? Se botar aí eu vvoar.com, você acessa ou na bio do meu perfil ou quem tá vendo a gente no YouTube, o link tá em algum lugar. E aí eu escrevo o livro e gero ele através dessa aula que eu tô fazendo aqui com vocês. Eu tenho que terminar 5 horas para pegar meu filho na escola. Aqui a sinceridade é sempre feita apando qu. Então o que acontece no capítulo três, eu quero que vocês tenham clareza e eu não tô seguindo script nenhum, tô puxando meu coração assim, tá? No capítulo 3, eu quero que você entenda uma coisa. Quais são, qual é a prisão invisível que faz com que você nunca encontre o seu produto perfeito na internet? É a prisão invisível. pela sua falta de segurança, você quer pegar a segurança dos outros e você entra num medo de fracassar, medo de vender, entregar, medo de não corresponder com as expectativas, medo de não ser bom o suficiente. E aí quando eu convido pessoas para escrever livros, o que eu faço num ano no prazo de 2 horas, eu tô escrevendo um livro com vocês aqui, eu vou escrever em 1 hora hoje, em 4 horas o livro tá pronto para vender e publicado. Claro, o livro digital, o livro físico impresso, a gente precisa ir de mais uns 7 dias. Falei, por que 7 dias? Porque você tem que revisar o texto, tem que diagramar, ficar bem bonito, com cara de livro, você publica sem pressa, 30 dias vai, tá tudo bem. Mas as pessoas entram num ciclo de alguns medos essenciais. E o primeiro medo é o medo de falhar, de tentar dar errado. O medo de fracassar, o medo de você criar um curso que as pessoas não vão comprar ou se as pessoas comprarem, você não vai conseguir entregar algo bom para elas. Esse é o primeiro grande medo, o medo do fracasso. Sabe qual o segundo grande medo? é você não se sentir preparado. É você falar assim: \"Não, eu preciso me preparar mais para começar a fazer tal coisa, para lançar a minha mentoria, para escrever um livro, para lançar um curso. Então, existem existe uma complicação na história. E tem também o terceiro medo. O terceiro grande mesmo é você, por você não saber como fazer, você precisa de uma metodologia que te traga a segurança do fazer. E aí você começa a entrar em coisas extremamente complicadas. Então, preste atenção nesses três pontos. Primeiro ponto é o medo de entregar, né, de vender uma coisa que você não consegue entregar ou você simplesmente não vendeu. Tá relacionado com venda. O medo de você não tá preparado. Não me sinto preparado e tenho medo do, poxa, eu não sei como fazer. E aí você começa a complicar as coisas, você começa a entrar em ciclos de coisas que demandam uma energia muito grande para lá na frente você ver se tem um resultado, né? Por exemplo, há muito tempo que eu não estudo, tá? Fórmula de lançamento do Erico Rocha, que eu comprei o curso, eu me lembro, comprei o curso do Erico Rocha em 2016 e foi incrível. 2016, 2017, 2017, desculpa, 2017. Em 2018 eu faturei 1.H400 e eu devo isso ao método do Fórmula de lançamento. Faturei 1.400.000 e eu não imaginava que isso ia acontecer. Eu tomei um susto. Bom, eu comecei a bater mais de R$ 100.000 por mês naquela época. E chegou uma hora que eu cheguei num faturamento que eu não não eh eu não imaginava. Só que o a fórmula de lançamento para mim, ela exige uma energia que você tem que dar corda. Exige muita energia, funciona muito demais. Só que quando o lançamento dá bom, é muito bom. Quando o lançamento dá ruim, muito ruim. Então eu eu tive lançamentos que deram muito bons. Muito bom, massa, legal, só que você tem que ter uma reserva financeira, você tem que ter uma prudência muito grande e tals. E eu não me identifiquei eh eu não me identifiquei com com aquele modo. É como você pegar alguém que faz musculação e manda o cara fazer crossfit. Talvez ele diga: \"Eu não me identifiquei\". É como se você pegar alguém que faz natação e mandar o cara jogar vôlei. Não se identificou e tá tudo bem. Então eu comecei a estudar high ticket, perpétuo lançamento e tudo isso era muito complicado. São muitas etapas, uma preparação muito grande. Até que eu descobri uma coisa que dessas complicações todas eu poderia simplificar método. Então eu peguei um tantinho de cada um e eu tornei a coisa mais simples possível. Então, a primeira coisa que eu te falo, o primeiro passo para que você eh crie o seu produto perfeito tá muito alinhado com outro livro que eu escrevi ontem, que é o Seja livre para falar. Fala, Dr. Vini. Vini, me manda uma mensagem aí, depois eu quero falar com você, por favor. Manda, manda, manda, manda. Eu quero muito conversar contigo. Eh, então, ontem eu escrevi no livro e todo dia eu tô escrevendo um livro aqui nas redes sociais. Essa aula sai do ar e entra paraa minha área de membros. Eu não vou parar comom. E ontem eu falei, escrevi um livro sobre seja livre para falar, para falar não, para mandar tomar naquele lugar. Naquele lugar é tomar um guaraná lá longe, não em outro canto. Para você falar o que você pensa, o que tá no seu coração, para você falar em público, para você falar pro vídeo, para você falar pra tua esposa, pro teu marido, para você falar. seja livre para falar e não se sentir na fá diante de uma câmera ou das pessoas. Então, ontem eu escrevi esse livro e aí eu falei sobre coisas essenciais, como, por exemplo, para você encontrar o produto perfeito, a primeira coisa você tem que olhar para dentro. E aí um cara vem aqui agora na live, ele botou aqui, ó, o Vini, amo sua vida. Eu também amo sua vida, velho. Me manda lá no WhatsApp, por favor. E aí você tem que olhar primeiro para dentro, porque quando você for criar o seu produto, quando você for criar a sua mentoria, os seus cursos, os seus livros, você tem que puxar aqui o seu coração, nem muito da sua cabeça. Não é sobre o que você vai ensinar as pessoas, é o que você vai inspirar a vida que ela que elas vão viver. Então, é você olhar paraa sua história. Até passei uma tarefa no livro que é você fazer o cartaz da história, que é você pegar fotos, imagens, elementos da sua história que comprovam tudo que você aprendeu, fez, realizou, até as suas derrotas fazem parte das suas medalhas. Vou falar de novo que essa frase é poderosa. Até as suas derrotas fazem parte. ouvin já mandou mensagem para nas suas medalhas. Então quando a primeira primeiro passo para você encontrar seu produto perfeito é você olhar paraa sua história, as coisas que você já aprendeu e as coisas que você tem tesão de falar, que você tem alegria de falar, que você gosta de falar. E toda vez que eu vou escrever um livro, eu tô fazendo isso agora com vocês, só falando, né? Jesus não escreveu a Bíblia, ele só falou. Então eu só vou falar, transcrevo tudo que eu digo e uso uma inteligência artificial com as minhas palavras. Não caia na esparrela de fazer livro Mecetref com uma linha que você escreve e aí escreve para você. Você pode ser processado porque aí vai puxar essa informação de algum lugar. Aí o autor que é dono da informação vai dizer: \"Ei, você tá me plageando\". E você pode ver lá no Código Penal que é o crime de plá, pode dar até, ó, cadeia, tá? Então se liga nessa história. Voltando aqui pr pra parada da do escrever, né? Toda vez que eu vou escrever um livro, eu coloco meu joelho no chão e eu faço com oração. E eu peço para Deus: \"Senhor, o que que vai trazer alegria para ti, ó Pai? Que eu ensine, que eu transmita para as pessoas, que eu inspire as pessoas. E aí eu pergunto aquilo que tá no meu coração, né? O que que eu quero ensinar? O que que eu quero inspirar as pessoas? Então, o primeiro ponto do produto perfeito não é o que tá lá fora, é o que tá dentro, é o que eu tenho alegria de ensinar. E tire da cabeça que aquilo que você gosta de ensinar não dá dinheiro. Dá tudo, dá dinheiro. Tudo dá dinheiro. E olha que aqui no Espanhamento tá chegando um monte de pessoas amadas, viu? Ô Marco, fala Mário, como é que você tá? Tudo bem? E aí então o que acontece pessoal? Primeiro passo olhar para dentro, não sou segundo passo olhar para fora. É você se perguntar quem eu posso ajudar com aquilo que eu sei. É uma frase muito importante para você escrever. Você que você escreveria quem eu posso ajudar com aquilo que eu sei. Porque quando eu comecei minha carreira, eu comecei a ajudar prévestibulando. E aí eu comecei a ajudar prévestibulando a ter disciplina e confiança para fazer a prova. Disciplina para estudar, confiança para fazer a prova, disciplina e confiança. Quem não precisa disso? todo mundo. E aí eu comecei também aar ensinar alguns métodos de estudo, mas as coisas foram evoluindo e eu comecei a ensinar pessoas a passar em vestibular, depois passar em concurso público, que são pessoas que tinham mais dinheiro, passar no exame da OAB, que reprova muito, passar na prova de residência médica. Eu pensei, cara, pera aí, existe uma prova que é feita todo dia, sabe qual é? É a prova das pessoas que precisam fazer dinheiro, empresários, empreendedores, pessoas que estão no digital. médicos, dentistas, advogados. Eu vou ensinar esse povo a empreender de alguma forma, a ter a liberdade de fazer o que você ama, de cumprir seu propósito na terra, de ter tempo livre para você, sair da sobrecarga, mas parar de vender seu tempo, parar de ser refém, depender de um emprego, de uma carteira assinada. E aí eu comecei a ajudar essas pessoas. No fundo, no fundo, eu ensinava mais ou menos a mesma coisa para todo mundo, do prêmio estuando até o empresário, a mesma coisa, ter disciplina, confiar em si mesmo e método, método para aprender, método para executar alguma coisa. Então, aquilo que você sabe, alguém precisa. Até a Maria Alice escreveu aí, ó, quem eu posso ajudar com aquilo que eu sei? Se você colocar isso grande, visível na parede aí no seu quarto de guerra, crie um quarto de guerra, escreva isso, você vai começar a transformar sua vida de uma forma que você não tem noção, porque você vai cumprir o mandamento que Jesus deu pra gente. Sabe qual é o mandamento? O mandamento é: \"Amai-vos uns aos outros, assim como eu vos amei. Amai-vos uns aos outros, assim como eu vos amém\". Então, quem posso ajudar maior que serve com aquilo que eu sei? E aí você vai identificar coisas que você gosta de falar e que as pessoas querem ouvir. Agora, se você falar de coisas que as pessoas não querem ouvir, provavelmente você não vai vender, né? A Lud já chegou aqui, ó. Lud, estamos escrevendo mais um livro, tá? Lud, que áudio lindo que você mandou para mim. E aí, eh, quando você pensa assim, massa, beleza, já escrevi aqui, Felipe, as coisas que eu gosto de ensinar, né, e as coisas que o povo quer receber. Beleza? Agora eu vou criar um curso, não, vou lançar uma mentoria, não. Calma, você vai pegar um problema, um item, e você vai criar uma aula. Essa aula pode ser ao vivo, como eu tô aqui com vocês escrevendo esse livro, ou essa aula pode ser uma aula gravada. Essa aula pode ser uma aula que você vai administrar ela para pessoas no mundo real e você vai gravar só o áudio sem câmera. Ó que top. E aí na hora em que você fizer essa aula para uma câmera, ao vivo ou não, para pessoas, ou simplesmente falando para um gravador de voz, você vai ter um conteúdo sobre um problema, um conteúdo pequeno. Por exemplo, quando eu ajudo o médico a fazer um livro, eu falo para ele assim, ó, ajuda as pessoas a parar de comer açúcar. É só uma coisa. Açúcar ajuda as pessoas a perder a barriga. É só uma coisa. Ajuda uma mulher a emagrecer depois de ter filho. É um grande desafio. É outro corpo, é outra rotina, é outra vida. Como é que a mulher vai se exercitar amamentando? Meu Deus do céu, seu feito não deixa. Ajuda a pessoa a emagrecer depois da menopausa, ajuda a pessoa emagrecer depois de 50 anos, ajuda a pessoa a parar de tomar refrigerante. Então você pega um problema e você cria uma aula de uma hora e essa aula de uma hora, a transcrição dela, o próprio YouTube faz a transcrição. Se você souber fazer isso, pouca gente sabe que o YouTube faz a transcrição. O que que é a transcrição? É tornar texto tudo que você fala. Mas tem um monte de ferramenta que faz isso. Então você pega a transcrição de uma aula e você consegue através da inteligência artificial aí onde tá o segredo, o detalhe é o prompt. É como usar a inteligência artificial para pegar tudo que você falou por uma, duas horas e transformar em um livro. E aí você tem o aquilo que eu chamo de ativo digital. O ativo digital é um livro digital e uma aula. Quem gosta de ler vai ler o livro. Quem gosta de ouvir ou de ver vai ver a aula. Mas quando a pessoa pagar R$ 19,70, sei lá quanto, R$ 20 por isso, é barato demais. E um livro te traz uma autoridade imediata, mesmo que seja um livro digital. É claro que tem um livro físico, eu sou autor de vários livros, você tem um livro físico que te traz uma autoridade muito maior, muito, muito, muito maior. Eu não gosto nem de eh chamar livro digital de livro, né? Mas é o seu primeiro livro, vai. Então, num horizonte assim de duas, três, no máximo 4 horas, você tem algo para vender. Você começasse hoje, ainda hoje fazer uma aula sobre um problema e gerar valor pra pessoa assim, ó, gerar valor de verdade, não é falar sobre o tema, não. É você gerar valor de verdade naquela uma hora e aí você entrega aquilo, só tá aquele ponto para um problema por vez, uma coisa por vez. E você tá cobrando pouco. Então, quem cobra pouco não tem obrigação de entregar muito. Faz sentido? É uma frase bacana também. Se eu cobrar pouco, eu não tenho obrigação de entregar muito. E aí eu faço uma aula, crio um livro, eu tenho um produto digital para vender. Você cria lá uma link lá na Hotmart, outra plataforma que você quiser e põe para vender. Beleza? Aí amanhã ou na próxima semana você faz mais uma aula sobre um outro problema específico, uma coisa, um ponto e você passar uma hora falando, gera valor para caramba transformar essa aula em livro. Você transcreve e transforma em livro. Aí você tem outro produto para vender. Quando as pessoas te conhecerem, elas vão te conhecer através de um livro. É o cartão de visita mais legal do mundo. É muito massa. Eu tô num evento, né? Eu levo uma mochila, tem uma mochila gigante aqui comigo, minhas coisas tudo. Eh, eu ponho dentro da mochila, uns 4, c livros. E aí eu tô lá no evento me conectando com as pessoas, conversando, fazendo tal network. Alguém vai me dar um cartão. Aí eu pego o cartão da pessoa, puxo o meu livro, faço uma dedicatória com base no que eu conversei com a pessoa e entrego para ela. Aí a pessoa toma dois sustos. Primeiro, ela fala: \"Esse livro é seu?\" Eu falo: \"É\". \"E é para mim?\" Eu digo: \"É\". Eu acabei de dar um presente para ela. Então, a sua relação com as pessoas, quando elas descobrem que você tem um livro e não é a mesma. A pessoa não precisa nem comprar o seu livro para saber que você tem um escrito. Quando a pessoa compra seu livro, aí no jogo é outra. Então, se você é médico, dentista, advogado, não importa, mentor, você precisa ter um livro. Por que, Felipe? Porque é rápido, fácil, prático de fazer. Não vá cair na esparrela de fazer livro, onde você manda ir a escrever para você. Não, tem que ter o seu conteúdo, a sua verdade, até para que você não seja processado. Por isso não passe vergonha, porque em vez de você ter autoridade, você vai ter uma vergonha, porque você tá colocando o seu nome em algo que não foi você que fez. É a mesma coisa de você chegar lá no coleguinha da escola e dizer assim: \"Bota meu nome no trabalho aí e você não fez nada. Isso é vergonhoso. O livro tem que ter a sua essência, a sua mensagem, a sua história, a sua cara para que quando você mostra o livro pra pessoa e as pessoas lerem, elas vão conhecer quem você é de verdade. Então o livro é o melhor cartão de visita. Melhor livro não se vende. Você mostra o livro e a pessoa compra. A pessoa olha e fala assim: \"Eu quero\". Ou ela diz: \"Não quer\". Você não precisa encher o saco das pessoas para elas comprarem o seu livro. Não é necessário fazer isso, não precisa fazer isso. Não faça isso. Você mostra, você pega o livro lá, tira uma foto com café e fala: \"Ó, tá aqui a frase. A frase que mudou a minha vida foi essa.\" E aí quando você cria uma aula que vira um livro, mais uma aula que vira um livro, se você quiser fazer isso todo dia como eu tô fazendo, eu sou prova na vida que isso funciona, tá? Eu já escrevi vários livros. O primeiro eu escrevi em seis dias, né? O segundo foram três meses, demorou um pouquinho mais. Mas hoje eu escrevo um livro por dia. Você pode fazer, sei lá, uma vez na semana para não não sobrecarregar você, né? Uma vez na semana você tira uma hora do seu tempo, grava uma aula, converte isso em livro. Aí você tem uma oferta que é o livro mais a aula que você vende por R$ 19. Então a pessoa vai olhar para aquilo lá, né? Então ó, tem gente aqui, ó, das emagrecimento, né? Ela vai falar sobre emagrecimento, ela pode falar sobre um monte de coisa que emagrece, que engorda, sobre a necessidade do sono, o poder de tomar água, alimentos que engordam, alimentos que emagrecem, hábitos que engordam, hábitos que emagrecem. E ela pode passar uma hora falando sobre cada um desses temas. Essa uma hora falando é transcrita e convertida em um livro em um tempo de mais uma hora, digamos. E aí você cria um produto na na internet, coloca para vender e você simplesmente menciona, você fala sobre esse livro. Por exemplo, eu tenho um livro que o imunidade emocional ele serve para vencer medo, para vencer ansiedade. Então, toda vez que eu pego o livro e falo: \"Olha, muita gente vive ansiosa hoje em dia, é uma pressão, é uma correria, um sentimento de atraso o tempo todo.\" E tudo que eu aprendi sobre como vencer ansiedade, existe uma estratégia, uma técnica. E aí eu mostro na página, eu explico na página a estratégia pra pessoa e aí eu fecho o livro. Na hora que eu fecho o livro, a pessoa fala: \"Que livro é esse?\" Eu não vendi o livro. Eu não vendi. Do nada você coloca o link do livro, você fala que tá na B no teu perfil, você coloca os livros que você já escreveu no carro céu. Você menciona os seus livros. Quando eu vou palestrar, palestrar com 1000 pessoas ou mais, eu levo um livro para sortear. Todo mundo quer meus livros. todo mundo. É muito raro que de uma palestra eu não venda muitos livros. E quando a pessoa compra meu livro, ela ganha uma aula. E quando ela ganha uma aula, existe uma conexão de uma a duas horas com a pessoa. Então, o tempo para que alguém me conheça através de um dos meus livros ou conheça você através de um dos seus livros, assista uma aula de 1 a 2 horas e você não é mais um estranho para ela, é uma tarde. Hoje em dia no marketing digital você passa, pessoa te conhece, aí você fala: \"Me segue, Deus me livre pedir alguém para me seguir, eu não quero que ninguém me siga. Eu quero que as pessoas comprem os meus livros se elas perceberem que elas precisam, porque tem outra coisa, vender curso na internet é feio, vender mentoria na internet é feio. Agora, vender livro não é feio não. Se eu te mostro um livro meu, se eu te mostro os livros que eu já escrevi, as pessoas não ficam chateadas porque você tá mostrando um livro. Não existe essa chateação, né? Então, qual é como encontrar o seu produto perfeito? Encontre os problemas que você gosta de resolver e comece a resolver seus problemas uma hora de cada vez. Em uma hora você faz uma aula, essa aula vira um livro, um livro digital inicialmente, depois a gente evolui para um livro físico, tá? E aí você tem um produto para vender na internet e você fala sobre esse produto, você fala sobre esse problema. Você pode até anunciar, botar lá R$ 6 de investimento de área, R$ 10 diário, isso começa a vender. Na hora que a pessoa compra, ela conhece você, ela já é ajudada. E no próprio livro você convida ela para um próximo passo. Talvez seja uma consulta, talvez seja uma mentoria sua, talvez seja um próximo livro, talvez seja uma área de membros, como eu tenho, ó, eu não vou parar. Pongcom. É para que você tenha blindagem emocional, alegria de viver, como as pessoas me pedem, Felipe, parece que eu perdi a minha alegria de viver, capacidade de agir, de aprender as coisas e colocar em prática e fazer a coisa acontecer, né? A Bárbara Tx chegou aí, pediatra. Eu tive ontem uma sessão de mentoria com a pediatra, falei: \"Ó, você pode criar livros para pros pais, para várias fases do parto, amamentação, vários problemas que a pessoa pode ter, né? Quando que que é recomendado fazer alguma coisa ou não, quando que eu vou identificar se o meu filho tem algum probleminha de respiração, né? a mãe fica vendo lá se o filho tá respando ou não. Então tem várias coisas que os médicos podem ajudar no intestino, por exemplo, né? Às vezes o o bebezinho, né? O até eu tenho um filho de 3 anos, o Arian daqui a pouco vou pegar na escola, falta 15 minutos. Eh, ele não consegue no banheiro, é um é um bo porque ele, né? Quem não vai pro banheiro, ele tem problema, tá? até a a luz que é nutricionista vai falar sobre isso. Então, o segredo é você pegar um problema específico e gerar uma aula gravada ou ao vivo para uma pessoa que seja, para um grupo de pessoas ou simplesmente falando com o celular. Hoje no Google Documentos tem uma ferramenta, lá, você clica em ferramenta, microfonezinho lá e você fala e escreve. Simples. E aí uma hora falando, você consegue pegar tudo que você falou em uma hora e a gente transforma isso em um livro. Você coloca na inteligência artificial. O próprio chefe de GPT faz isso para você. Não sei se vai fazer bem feito, né? sem porque o segredo das inteligências artificiais não é aquilo que não é o chatpt, é como você usar ele. São os promptes, são os comandos, mas se você tiver a aula e o livro, essas duas coisas juntos, você consegue vender para pessoas sem vender. E aí quando você tiver lá 5, 10, 20 aulas, que você pode fazer em 20 dias, né? você tiver 20 aulas, você fala assim: \"Não, agora eu vou criar o meu Netflix, agora eu vou criar ainda. Eu vou botar essas aulas todas, esses livros digitais todos em uma área de membros que é aovoupar.com, o link tá lá na meio do meu perfil e aí você coloca tudo lá e a pessoa paga uma assinatura recorrente, tipo Netflix, sei lá, R$ 48. Então você começa a criar os ativos, as pessoas encontram os seus livros. Livro é prazeroso de comprar. Para vender livro não precisa nem vídeo. Texto se vende com texto. Então para você criar uma página de vendas de um livro, existe até inteligências artificiais que você escreve, a própria IA faz a página de vendas para que você possa vender o seu livro sem precisar ser vendedor, só mencionando o livro, mostrando uma página, falando sobre ele. E aí todo mundo que compra seu livro, aí sim é muito mais fácil a pessoa entrar numa mentoria, num treinamento, um entrar avançar para uma consulta sua. E aí tem um detalhe, quando eu fiz meu primeiro milhão lá em 2018, eu percebi uma coisa, que todas as pessoas que avançavam para um produto maior, elas tinham comprado um desafio meu, que eram 21 dias. 21 dias. E esses 21 dias, a pessoa tinha uma tarefa por dia. Eu falei: \"Poxa, que legal\". Só que tem um problema, né? Às vezes a pessoa não tem a disciplina que tá aqui no meu braço, a disciplina para fazer os 21 dias. Então ela se perde. Aí eu pensei, poxa, se eu fizer uma aula só de uma hora? É como se eu quebrasse um desafio de 21 dias em 21 aulas. E nem precisa ser de uma hora que legal. Pode ser uma aula de 15 minutos, 20 minutos, meia hora. Então, todo dia você vai lá e grava uma aula de 10 minutos, 10. E aí você vende e você entrega. Cada passo vai ser uma espécie de capítulo do seu livro. E aí você vai pegar, né, 10 minutinhos falando, deve dar mais cinco páginas, não sei, né? Cinco páginas em 20 dias, 21 dias, vai dar umas c e poucas páginas. Você tem um livro na mão que você fez em 21 dias. É simples. O produto perfeito vem quando você olha pro seu coração e olha para as pessoas com amor. Talvez seja o o maior desafio de quem vai criar um produto para vender na internet é você olhar para si mesmo com amor, olhar pras pessoas com amor e desejar servir, porque maior que serve. Então você cria uma solução que a pessoa para um pouco, consome aquele conteúdo, fica impressionado porque é muito legal. Fala: \"Caramba, é uma aula de uma hora\". Mas nessa aula de uma hora eu aprendi coisas que eu paguei caro, cursos caros e não vi. E as pessoas gostam de vitórias rápidas, as pessoas têm preguiça de ver coisa muito longa, sabe? Então você pagou lá, ó, em uma hora você vai ver como resolver. um problema que você sabe que as pessoas querem resolver, porque existem problemas que as pessoas não sabem que tem. Se eu for falar sobre medo, por exemplo, o cara escreveu um monte de livro sobre medo, um monte. Medo de tudo, medo de falar em público, medo de vender. Ai, meu Deus do céu, quanta gente tem medo de vender, medo de contratar pessoas, medo de empreender. Eu quero fazer um montão de livro sobre medo, medo, medo, medo. E aí muita gente nega que tem o medo ou não sabe que tem. Estrategicamente não vai ser legal vender esse livro sobre medo. Não vai ser. Era muito mais fácil fazer um livro dizendo assim: \"Vou te ajudar a vender mais\". Aí o povo quer a técnica secreta tá para você vender mais. Eu vou dar três passo. Passo um, faça isso. Passo dois, faça aquilo. Passo três, você tem que tirar os medos, porque você não vende que você tem medo. Medo de ser ganancioso, medo de ir pro inferno, medo de prejudicar os outros, medo de parecer que você só quer o direito das pessoas. Aí as pessoas vão dizer: \"Ah, entendi.\" Então o povo tem que meio aqui enrolado para você pegar a solução, né? Aí quando eu falo meio que ser enrolado, é, poxa, as pessoas precisam se libertar dos seus medos, sabe? O verdadeiro amor lança fora todo medo, é bíblico, mas as pessoas não querem olhar para isso. Uma vez eu vi uma médica falar para mim assim: \"Eu não quero mexer nas minhas feridas, nos meus traumas\". Eu digo: \"É mesmo\". É. Então, a mesma coisa se chegar para um paciente que ele tem um osso quebrado e ele fala para você: \"Doutor, eu não quero mexer nesse osso quebrado\". Você vai dizer: \"Pois é, mas se você não mexer, você vai ficar com isso aí destruído a vida toda.\" É a mesma coisa. Se você não curar o seu passado, você vai perder todas as brigas que você tiver com o seu passado. E você vai continuar brigando com o seu passado na sua cabeça. Você vai continuar se julgando, você vai continuar eh sofrendo com aquilo que passou. Então, é muito importante que você tenha essa clareza. O que que as pessoas querem comprar e o que que eu vou ter alegria de vender, de entregar. E eu e eu pessoalmente eu tenho um terceiro passo, sabe? O que que Deus quer que eu faça e venda e fale? Porque eu tô escrevendo um livro por dia no meu coração como uma obediência. Ou não vou parar comom para mim é aquelas conversas, sabe? Eu tenho uma metodologia de conversar com Deus, porque eu nunca tive ninguém para falar bem de Deus para mim. Até meus 30 e poucos anos, até que eu conheci a Priscila, minha esposa, eh, eu nunca ninguém falou o bem de Deus para mim, sabe? Então, eh, quando eu comecei a conversar com Deus e a perguntar para ele: \"Senhor, que que você quer que eu fale? Qual o livro que você quer que eu escreva? Que o Senhor quer que eu escreva? E aí todo dia eu vou vir aqui e eu vou escrever um livro junto com vocês. E esse livro pode ter meia hora, esse livro pode ter uma hora, esse livro pode ter o tempo que for, mas todo dia eu quero obedecer o que Deus me determina a fazer. Eu tô cansado de não fazer o que Deus me pede e de fazer aquilo que a minha cabeça acredita que é o mais legal. Porque se você perguntasse para Moisés, Moisés tá lá diante do Mar Vermelho, né, Moisés? E aí, vai fazer o quê? Opção número um, né, Moisés? Vamos voltar pro Egito. Opção número dois, vamos construir uma ponte. Opção número três, vamos fazer uns barcos aqui. A gente vai de barco pro outro lado. Opção número quatro, vamos dar a volta. Vamos tentar de outro jeito. Eu tenho certeza que Moisés jamais falaria: \"Vamos bateu o cajado na água\". E essa solução que Deus tem. Deus tem soluções para nós que quando a gente obedece o mar parte no meio, a gente caminha sobre as águas. E quando eu tive em Roma, no meu casamento, eu fui a Roma. Eu fui lá no Vaticano, né? Hoje um novo papa foi escolhido. E quando eu tava lá em Roma, eu fui para uma basílica, basílica de São Paulo, extramuros, que tem uma uma imagem, né, do apóstolo Paulo. E ele tá com uma uma bíblia na mão, uma espada e na outra. E eu olhei para ele assim, falei: \"Caramba, vamos escrever aí\". Tocou no meu coração, né? Porque eu na condição de Burg sou escritor de livros e ajudo pessoas a escrever livros, para mim isso é um milagre gigante do mesmo tanto de caminhar sobre as águas, sabe? Então eu quero que você crie o produto perfeito, como se você fosse montar no quebra-cabeça. Pensa assim, um quebra-cabeça, ele tem várias pecinhas e você não sabe por onde você vai começar a montar. Você vai separando as peças do canto para você ter uma ideia do formato. E aí você vai encaixando as peças. Cada pecinha dessa é um problema que você pode resolver. E esse um problema que você pode resolver pode ser resolvido em uma hora, duas horas, um problema, um problema cada vez. E aí você transcreve a aula, faz um livro e você coloca para vender. Então, digamos que você, pô, se você colocar os seus livros para vender, sabe o que é mais legal? O livro ele pode tá, ele pode ser vendido quando você dorme, não precisa entregar o livro. Livro pode ser impresso por demanda. Então você vende um livro, as pessoas imprimem o livro e manda na casa de quem comprou o livro. Olha que legal. E aí você consegue servir o livro, ele se ele carregar a sua mensagem, a sua verdade, você tem autenticidade. Se ele não tem a sua verdade, o livro é uma mentira. E a mentira tem perna curta. A mentira não dura para sempre, mas a verdade é indestrutível. Eu escutei da minha esposa, é um conteúdo com a alma. Ela fala muito sobre isso, você falar com alegria do que tá no seu coração e que as pessoas querem ouvir, precisam ouvir de verdade, que as pessoas pagariam para ouvir. E eu tenho certeza que você vai escutar muito do que eu já ouvi. Seu livro salvou a minha vida, seu livro mudou a minha história, seu livro foi uma resposta de oração. Existe alguém hoje com joelho no chão pedindo para Deus para que você tenha a coragem de criar as soluções que vão ajudar as outras pessoas. Eu lembro de uma de uma situação de uma moça, ela tava desesperada, ela pular pela janelada, pular lá da janela da apartamento dela. E ela botou lá os vídeos no YouTube e do nada aparece um vídeo meu e eu falava no vídeo assim: \"Ei, tio, você não desista. Vem cá, senta aí, vamos conversar.\" Na hora que eu falei isso, que eu gravei esse vídeo, ela parecia que era para ela e então grave um vídeo assim falando e vem cá muitos estão sei que você tá cansado, sei que você tá desesperado, sei que você tá não tá vendo saída outras coisas, mas Salmo 37:5 diz assim: \"Entrega o seu caminho ao Senhor, confia nele e tudo ele fará. Faz com que todas as coisas cooperem para o bem. E se você não tem saída, fica em paz. Deus tem. Por isso que ele é o caminho, a verdade e a vida. A gente não consegue fazer nada sozinho. A gente consegue. Que no seu produto perfeito tem a assinatura de Deus. Que no seu produto perfeito você consegue consiga encontrar um resultado de uma oração, onde você junta suas mãos, fecha seus olhos e pede para Deus: \"Pai, me ilumina com o seu produto perfeito\". com o seu produto perfeito, o produto perfeito que faz parte do plano perfeito de Deus na tua vida, para que ele te inspire, te traga sabedoria, te encha de amor e alegria para que você possa servir com algo muito além do que você pode imaginar, com algo que transcende o que cabe na sua cabeça, mas que pode transbordar o seu coração. Tenho certeza que todo mundo que pegar esse livro agora que eu tô escrevendo para ler vai falar assim: \"Poxa, esse livro foi escrito para mim, foi para você que precisa encontrar o seu produto perfeito, que na verdade vai ser a soma de vários produtos pequenos e você vai juntar eles todos, você pode colocar na sua área de membros e o próximo passo dos seus livros pode ser sua mentoria. É muito mais fácil você vender uma mentoria para uma pessoa que já leu o livro seu. É muito mais fácil. E de novo, o tempo para que você possa criar o seu livro, ele ele varia de 2 a 4 horas, no máximo. No máximo você ter um livro escrito, um livro digital. O livro físico pode levar entre 7 a 30 dias. E você tem um nível físico mesmo. Isso vai te trazer uma autoridade imediata, vai te trazer muitas, muitas, muitas, muitas vantagens, não só para gerar valor na vida das pessoas, mas para fazer dinheiro também, que é bom. Fechou? Espero ter ajudado. Espero que você não caia no perfeccionismo, que você pegue um problema por vez, resolva esse problema, gere valor e avance, combinado? E se você quiser acessar esse livro, vai tá lá novoar.com. O link tá lá dentro do meu perfil. Um beijo para vocês. Até o livro que eu vou escrever amanhã com vocês, que eu nem sei qual é, mas amanhã vou descobrir perguntar para Deus que eu não sou bom pilhada. Tchau para vocês. Agora ten que descobrir como é que eu encerro essa aula aqui do YouTube que eu não sei. Alguém sabe me dizer como é que para aqui? Rapaz, a aula do YouTube, ó, eu tô ao vivo no YouTube, eu não sei como é que termina a aula. Ah, tem aqui um botão gigante, velho. Encerrar no insano. Tchau, tchau, povo do Instagram. M.\n"
          ]
        }
      ]
    },
    {
      "cell_type": "code",
      "source": [
        "from google.colab import drive\n",
        "drive.mount('/content/drive')\n"
      ],
      "metadata": {
        "colab": {
          "base_uri": "https://localhost:8080/"
        },
        "id": "r1dfG4Hz9Iwv",
        "outputId": "c8aa2d6f-f395-4cae-8a2d-065185766bf4"
      },
      "id": "r1dfG4Hz9Iwv",
      "execution_count": null,
      "outputs": [
        {
          "output_type": "stream",
          "name": "stdout",
          "text": [
            "Mounted at /content/drive\n"
          ]
        }
      ]
    },
    {
      "cell_type": "code",
      "source": [
        "# Definir o caminho para salvar no Google Drive\n",
        "caminho_drive = \"/content/drive/My Drive/transcricao_youtube.txt\"\n"
      ],
      "metadata": {
        "id": "6trZTJry9Sic"
      },
      "id": "6trZTJry9Sic",
      "execution_count": null,
      "outputs": []
    },
    {
      "cell_type": "code",
      "source": [
        "# Salvar a transcrição no Google Drive\n",
        "with open(caminho_drive, \"w\", encoding=\"utf-8\") as file:\n",
        "    file.write(transcription)\n",
        "    print(f\"\\nA transcrição foi salva no arquivo: {caminho_drive}\")\n"
      ],
      "metadata": {
        "colab": {
          "base_uri": "https://localhost:8080/"
        },
        "id": "QR5V4p2m5zOO",
        "outputId": "dd3a4916-249f-4a8f-a48d-bcdf4705daf4"
      },
      "id": "QR5V4p2m5zOO",
      "execution_count": null,
      "outputs": [
        {
          "output_type": "stream",
          "name": "stdout",
          "text": [
            "\n",
            "A transcrição foi salva no arquivo: /content/drive/My Drive/transcricao_youtube.txt\n"
          ]
        }
      ]
    }
  ],
  "metadata": {
    "kernelspec": {
      "display_name": "Python 3 (ipykernel)",
      "language": "python",
      "name": "python3"
    },
    "language_info": {
      "codemirror_mode": {
        "name": "ipython",
        "version": 3
      },
      "file_extension": ".py",
      "mimetype": "text/x-python",
      "name": "python",
      "nbconvert_exporter": "python",
      "pygments_lexer": "ipython3",
      "version": "3.9.21"
    },
    "colab": {
      "provenance": [],
      "include_colab_link": true
    }
  },
  "nbformat": 4,
  "nbformat_minor": 5
}